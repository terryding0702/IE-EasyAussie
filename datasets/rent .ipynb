{
 "cells": [
  {
   "cell_type": "code",
   "execution_count": 13,
   "metadata": {},
   "outputs": [],
   "source": [
    "import pandas as pd\n",
    "import numpy as np\n",
    "import re"
   ]
  },
  {
   "cell_type": "code",
   "execution_count": 14,
   "metadata": {},
   "outputs": [],
   "source": [
    "df = pd.read_excel('2_bed_final.xlsx')"
   ]
  },
  {
   "cell_type": "code",
   "execution_count": 15,
   "metadata": {},
   "outputs": [],
   "source": [
    "df = df.reset_index()"
   ]
  },
  {
   "cell_type": "code",
   "execution_count": 16,
   "metadata": {},
   "outputs": [],
   "source": [
    "df = df.rename(index=str, columns={\"index\": \"Rent_id\"})"
   ]
  },
  {
   "cell_type": "code",
   "execution_count": 17,
   "metadata": {},
   "outputs": [
    {
     "data": {
      "text/html": [
       "<div>\n",
       "<table border=\"1\" class=\"dataframe\">\n",
       "  <thead>\n",
       "    <tr style=\"text-align: right;\">\n",
       "      <th></th>\n",
       "      <th>Rent_id</th>\n",
       "      <th>Region</th>\n",
       "      <th>Suburb</th>\n",
       "      <th>2018_Mar_Count</th>\n",
       "      <th>2018_Mar_Median</th>\n",
       "      <th>2018_Jun_Count</th>\n",
       "      <th>2018_Jun_Median</th>\n",
       "      <th>2018_Sep_Count</th>\n",
       "      <th>2018_Sep_Median</th>\n",
       "      <th>Average_of_Median</th>\n",
       "      <th>Average_per_person</th>\n",
       "    </tr>\n",
       "  </thead>\n",
       "  <tbody>\n",
       "    <tr>\n",
       "      <th>0</th>\n",
       "      <td>0</td>\n",
       "      <td>Inner Melbourne</td>\n",
       "      <td>Albert Park</td>\n",
       "      <td>233</td>\n",
       "      <td>495</td>\n",
       "      <td>235</td>\n",
       "      <td>500</td>\n",
       "      <td>217</td>\n",
       "      <td>500</td>\n",
       "      <td>498.333333</td>\n",
       "      <td>249.166667</td>\n",
       "    </tr>\n",
       "    <tr>\n",
       "      <th>1</th>\n",
       "      <td>1</td>\n",
       "      <td>Inner Melbourne</td>\n",
       "      <td>Middle Park</td>\n",
       "      <td>233</td>\n",
       "      <td>495</td>\n",
       "      <td>235</td>\n",
       "      <td>500</td>\n",
       "      <td>217</td>\n",
       "      <td>500</td>\n",
       "      <td>498.333333</td>\n",
       "      <td>249.166667</td>\n",
       "    </tr>\n",
       "    <tr>\n",
       "      <th>2</th>\n",
       "      <td>2</td>\n",
       "      <td>Inner Melbourne</td>\n",
       "      <td>West St Kilda</td>\n",
       "      <td>233</td>\n",
       "      <td>495</td>\n",
       "      <td>235</td>\n",
       "      <td>500</td>\n",
       "      <td>217</td>\n",
       "      <td>500</td>\n",
       "      <td>498.333333</td>\n",
       "      <td>249.166667</td>\n",
       "    </tr>\n",
       "    <tr>\n",
       "      <th>3</th>\n",
       "      <td>3</td>\n",
       "      <td>Inner Melbourne</td>\n",
       "      <td>Armadale</td>\n",
       "      <td>452</td>\n",
       "      <td>498</td>\n",
       "      <td>464</td>\n",
       "      <td>500</td>\n",
       "      <td>415</td>\n",
       "      <td>500</td>\n",
       "      <td>499.333333</td>\n",
       "      <td>249.666667</td>\n",
       "    </tr>\n",
       "    <tr>\n",
       "      <th>4</th>\n",
       "      <td>4</td>\n",
       "      <td>Inner Melbourne</td>\n",
       "      <td>Carlton North</td>\n",
       "      <td>95</td>\n",
       "      <td>485</td>\n",
       "      <td>95</td>\n",
       "      <td>490</td>\n",
       "      <td>101</td>\n",
       "      <td>485</td>\n",
       "      <td>486.666667</td>\n",
       "      <td>243.333333</td>\n",
       "    </tr>\n",
       "  </tbody>\n",
       "</table>\n",
       "</div>"
      ],
      "text/plain": [
       "   Rent_id           Region         Suburb 2018_Mar_Count 2018_Mar_Median  \\\n",
       "0        0  Inner Melbourne    Albert Park            233             495   \n",
       "1        1  Inner Melbourne    Middle Park            233             495   \n",
       "2        2  Inner Melbourne  West St Kilda            233             495   \n",
       "3        3  Inner Melbourne       Armadale            452             498   \n",
       "4        4  Inner Melbourne  Carlton North             95             485   \n",
       "\n",
       "  2018_Jun_Count 2018_Jun_Median 2018_Sep_Count 2018_Sep_Median  \\\n",
       "0            235             500            217             500   \n",
       "1            235             500            217             500   \n",
       "2            235             500            217             500   \n",
       "3            464             500            415             500   \n",
       "4             95             490            101             485   \n",
       "\n",
       "   Average_of_Median  Average_per_person  \n",
       "0         498.333333          249.166667  \n",
       "1         498.333333          249.166667  \n",
       "2         498.333333          249.166667  \n",
       "3         499.333333          249.666667  \n",
       "4         486.666667          243.333333  "
      ]
     },
     "execution_count": 17,
     "metadata": {},
     "output_type": "execute_result"
    }
   ],
   "source": [
    "df.head()"
   ]
  },
  {
   "cell_type": "code",
   "execution_count": 18,
   "metadata": {},
   "outputs": [],
   "source": [
    "df_final = df[['Rent_id','Region','Suburb','Average_per_person']]"
   ]
  },
  {
   "cell_type": "code",
   "execution_count": 19,
   "metadata": {},
   "outputs": [],
   "source": [
    "df_final = df_final.dropna()"
   ]
  },
  {
   "cell_type": "code",
   "execution_count": 20,
   "metadata": {},
   "outputs": [],
   "source": [
    "df_final['Average_per_person'] = df_final['Average_per_person'].round(0).astype(int)"
   ]
  },
  {
   "cell_type": "code",
   "execution_count": 21,
   "metadata": {},
   "outputs": [],
   "source": [
    "df_final['Suburb'] = df_final['Suburb'].str.upper()"
   ]
  },
  {
   "cell_type": "code",
   "execution_count": 22,
   "metadata": {},
   "outputs": [
    {
     "data": {
      "text/html": [
       "<div>\n",
       "<table border=\"1\" class=\"dataframe\">\n",
       "  <thead>\n",
       "    <tr style=\"text-align: right;\">\n",
       "      <th></th>\n",
       "      <th>Rent_id</th>\n",
       "      <th>Region</th>\n",
       "      <th>Suburb</th>\n",
       "      <th>Average_per_person</th>\n",
       "    </tr>\n",
       "  </thead>\n",
       "  <tbody>\n",
       "    <tr>\n",
       "      <th>0</th>\n",
       "      <td>0</td>\n",
       "      <td>Inner Melbourne</td>\n",
       "      <td>ALBERT PARK</td>\n",
       "      <td>249</td>\n",
       "    </tr>\n",
       "    <tr>\n",
       "      <th>1</th>\n",
       "      <td>1</td>\n",
       "      <td>Inner Melbourne</td>\n",
       "      <td>MIDDLE PARK</td>\n",
       "      <td>249</td>\n",
       "    </tr>\n",
       "    <tr>\n",
       "      <th>2</th>\n",
       "      <td>2</td>\n",
       "      <td>Inner Melbourne</td>\n",
       "      <td>WEST ST KILDA</td>\n",
       "      <td>249</td>\n",
       "    </tr>\n",
       "    <tr>\n",
       "      <th>3</th>\n",
       "      <td>3</td>\n",
       "      <td>Inner Melbourne</td>\n",
       "      <td>ARMADALE</td>\n",
       "      <td>250</td>\n",
       "    </tr>\n",
       "    <tr>\n",
       "      <th>4</th>\n",
       "      <td>4</td>\n",
       "      <td>Inner Melbourne</td>\n",
       "      <td>CARLTON NORTH</td>\n",
       "      <td>243</td>\n",
       "    </tr>\n",
       "  </tbody>\n",
       "</table>\n",
       "</div>"
      ],
      "text/plain": [
       "   Rent_id           Region         Suburb  Average_per_person\n",
       "0        0  Inner Melbourne    ALBERT PARK                 249\n",
       "1        1  Inner Melbourne    MIDDLE PARK                 249\n",
       "2        2  Inner Melbourne  WEST ST KILDA                 249\n",
       "3        3  Inner Melbourne       ARMADALE                 250\n",
       "4        4  Inner Melbourne  CARLTON NORTH                 243"
      ]
     },
     "execution_count": 22,
     "metadata": {},
     "output_type": "execute_result"
    }
   ],
   "source": [
    "df_final.head()"
   ]
  },
  {
   "cell_type": "code",
   "execution_count": 23,
   "metadata": {},
   "outputs": [
    {
     "data": {
      "text/plain": [
       "False"
      ]
     },
     "execution_count": 23,
     "metadata": {},
     "output_type": "execute_result"
    }
   ],
   "source": [
    "df_final.isnull().values.any()"
   ]
  },
  {
   "cell_type": "code",
   "execution_count": 27,
   "metadata": {},
   "outputs": [],
   "source": [
    "df_final = df_final.set_index('Rent_id')"
   ]
  },
  {
   "cell_type": "code",
   "execution_count": 28,
   "metadata": {},
   "outputs": [],
   "source": [
    "df_final.to_csv('rent_final.csv')"
   ]
  },
  {
   "cell_type": "code",
   "execution_count": null,
   "metadata": {},
   "outputs": [],
   "source": []
  },
  {
   "cell_type": "code",
   "execution_count": null,
   "metadata": {},
   "outputs": [],
   "source": []
  }
 ],
 "metadata": {
  "kernelspec": {
   "display_name": "Python 3",
   "language": "python",
   "name": "python3"
  },
  "language_info": {
   "codemirror_mode": {
    "name": "ipython",
    "version": 3
   },
   "file_extension": ".py",
   "mimetype": "text/x-python",
   "name": "python",
   "nbconvert_exporter": "python",
   "pygments_lexer": "ipython3",
   "version": "3.6.0"
  }
 },
 "nbformat": 4,
 "nbformat_minor": 2
}
