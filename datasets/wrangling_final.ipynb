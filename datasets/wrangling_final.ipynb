{
 "cells": [
  {
   "cell_type": "code",
   "execution_count": 2,
   "metadata": {
    "collapsed": true
   },
   "outputs": [],
   "source": [
    "# import libraries first\n",
    "import pandas as pd \n",
    "import numpy as np # Numberical Python\n",
    "import datetime as dt"
   ]
  },
  {
   "cell_type": "code",
   "execution_count": 2,
   "metadata": {
    "collapsed": true
   },
   "outputs": [],
   "source": [
    "rent = pd.read_excel('Moving annual rents by suburb September quarter 2018.xlsx', index_col=None, header=None, sheet_name='All properties') \n",
    "region = pd.read_csv('SSC_2016_AUST.csv', low_memory=False)\n",
    "postcode = pd.read_csv('Australian_Post_Codes_Lat_Lon.csv', low_memory=False)\n",
    "df = pd.read_excel('industry_1.xls', index_col=None, header=None)"
   ]
  },
  {
   "cell_type": "code",
   "execution_count": 3,
   "metadata": {
    "collapsed": true
   },
   "outputs": [],
   "source": [
    "sub_rent = list(rent.iloc[3:,1].str.upper().unique())\n",
    "sub_rent2 = []\n",
    "for k in sub_rent:\n",
    "    aa = k.split('-')\n",
    "    sub_rent2 += aa"
   ]
  },
  {
   "cell_type": "code",
   "execution_count": 5,
   "metadata": {
    "collapsed": true
   },
   "outputs": [],
   "source": [
    "vic_region = region[region['STATE_NAME_2016']== 'Victoria']\n",
    "subs0 = list(vic_region['SSC_NAME_2016'].str.upper().unique())\n",
    "subs = []\n",
    "for k in subs0:\n",
    "    a0 = k.split('(')\n",
    "    subs.append(a0[0])"
   ]
  },
  {
   "cell_type": "code",
   "execution_count": 6,
   "metadata": {},
   "outputs": [
    {
     "name": "stderr",
     "output_type": "stream",
     "text": [
      "C:\\Users\\YHChen\\AppData\\Local\\Continuum\\Anaconda3\\lib\\site-packages\\ipykernel_launcher.py:2: SettingWithCopyWarning: \n",
      "A value is trying to be set on a copy of a slice from a DataFrame.\n",
      "Try using .loc[row_indexer,col_indexer] = value instead\n",
      "\n",
      "See the caveats in the documentation: http://pandas.pydata.org/pandas-docs/stable/indexing.html#indexing-view-versus-copy\n",
      "  \n"
     ]
    }
   ],
   "source": [
    "vic_loc = postcode[postcode['state']=='VIC']\n",
    "vic_loc['suburb'] = vic_loc['suburb'].apply(lambda x: x.upper())\n",
    "suburbs = list(vic_loc['suburb'].str.upper().unique())"
   ]
  },
  {
   "cell_type": "code",
   "execution_count": 7,
   "metadata": {
    "collapsed": true
   },
   "outputs": [],
   "source": [
    "col_name = list(df.iloc[7,0:3].values)+ list(df.iloc[6,3:37].values)\n",
    "df1 = df.iloc[8:19403,0:37]\n",
    "df1.columns = col_name"
   ]
  },
  {
   "cell_type": "code",
   "execution_count": 8,
   "metadata": {
    "collapsed": true
   },
   "outputs": [],
   "source": [
    "df1['LABEL'] = df1['LABEL'].str.upper()\n",
    "len(df1['LABEL'].unique())\n",
    "list1 = list(df1['LABEL'].unique())\n",
    "df2 =  pd.concat([df.iloc[1537:2004,0:37],df.iloc[7353:10587,0:37]])\n",
    "df2.columns = col_name\n",
    "df2['LABEL'] = df2['LABEL'].str.upper()\n",
    "len(df2['LABEL'].unique())\n",
    "list2 = list(df1['LABEL'].unique())"
   ]
  },
  {
   "cell_type": "code",
   "execution_count": 9,
   "metadata": {},
   "outputs": [
    {
     "name": "stdout",
     "output_type": "stream",
     "text": [
      "717 2656\n"
     ]
    }
   ],
   "source": [
    "state = ['(WA)','(SA)','(NSW)','(QLD)','(TA)']\n",
    "list3 = []\n",
    "for j in list2:\n",
    "    if j in subs or j in sub_rent2:\n",
    "        list3.append(j)\n",
    "    else:\n",
    "        for k in subs:\n",
    "            if k in j:\n",
    "                if not any(s in j for s in state):\n",
    "                        list3.append(j)\n",
    "                        break\n",
    "print(len(list3), len(list2))"
   ]
  },
  {
   "cell_type": "code",
   "execution_count": 39,
   "metadata": {},
   "outputs": [
    {
     "data": {
      "text/plain": [
       "23"
      ]
     },
     "execution_count": 39,
     "metadata": {},
     "output_type": "execute_result"
    }
   ],
   "source": [
    "match_sub = []\n",
    "no_match = []\n",
    "part_match = {}\n",
    "part_match2 = {}\n",
    "perfect = []\n",
    "for j in sub_rent2 :\n",
    "    match = False\n",
    "    if j in list3:\n",
    "        match =True\n",
    "        match_sub.append(j)\n",
    "        perfect.append(j)\n",
    "    else: #j not in list2:\n",
    "        for k in list3:\n",
    "            if j in k:             \n",
    "                #match_sub.append(j) \n",
    "                if k in part_match.keys():\n",
    "                    part_match2[k]=j\n",
    "                else:\n",
    "                    part_match[k]=j\n",
    "                match =True\n",
    "                match_sub.append(k)\n",
    "                #print(j+\":\"+k)\n",
    "                \n",
    "        if match==False:\n",
    "            no_match.append(j)\n",
    "        else:\n",
    "            match_sub.append(j)\n",
    "len(no_match)"
   ]
  },
  {
   "cell_type": "code",
   "execution_count": 40,
   "metadata": {},
   "outputs": [
    {
     "name": "stdout",
     "output_type": "stream",
     "text": [
      "CARRUM DOWNS\n",
      "MALVERN EAST\n",
      "HEIDELBERG WEST\n"
     ]
    }
   ],
   "source": [
    "kk = list(part_match.keys())\n",
    "for k in kk:\n",
    "    if k in perfect:\n",
    "        del part_match[k] \n",
    "        print(k)"
   ]
  },
  {
   "cell_type": "code",
   "execution_count": 41,
   "metadata": {},
   "outputs": [
    {
     "data": {
      "text/plain": [
       "327"
      ]
     },
     "execution_count": 41,
     "metadata": {},
     "output_type": "execute_result"
    }
   ],
   "source": [
    "match_sub.append('MELBOURNE CITY')\n",
    "match_sub.append('ST KILDA')\n",
    "match_sub.append('MOUNT ELIZA')\n",
    "match_sub.append('MOUNT MARTHA')\n",
    "len(match_sub)"
   ]
  },
  {
   "cell_type": "code",
   "execution_count": 12,
   "metadata": {},
   "outputs": [
    {
     "name": "stdout",
     "output_type": "stream",
     "text": [
      "HAMPTON:HAMPTON EAST\n",
      "SUNSHINE:SUNSHINE NORTH\n"
     ]
    },
    {
     "data": {
      "text/plain": [
       "16"
      ]
     },
     "execution_count": 12,
     "metadata": {},
     "output_type": "execute_result"
    }
   ],
   "source": [
    "match_sub2 = []\n",
    "no_match2 = []\n",
    "for j in sub_rent2 :\n",
    "    match = False\n",
    "    if j in suburbs:\n",
    "        match =True\n",
    "        match_sub2.append(j)\n",
    "    else: #j not in list2:\n",
    "        for k in suburbs:\n",
    "            if j in k:             \n",
    "                print(j+\":\"+k)\n",
    "                #match_sub2.append(j) \n",
    "                #match =True\n",
    "                break\n",
    "        if match==False:\n",
    "            no_match2.append(j)\n",
    "len(no_match2)"
   ]
  },
  {
   "cell_type": "code",
   "execution_count": 13,
   "metadata": {
    "collapsed": true
   },
   "outputs": [],
   "source": [
    "match_sub2.append('CBD')\n",
    "match_sub2.append('MELBOURNE')\n",
    "\n",
    "match_sub2.append('ST KILDA RD')\n",
    "match_sub2.append('ST KILDA')\n",
    "\n",
    "match_sub2.append('HAMPTON')\n",
    "match_sub2.append('HAMPTON NORTH')\n",
    "\n",
    "match_sub2.append('SUNSHINE')\n",
    "match_sub2.append('SUNSHINE WEST')\n",
    "\n",
    "#match_sub2.append('YARRA RANGES')\n",
    "#match_sub2.append('')\n",
    "\n",
    "match_sub2.append('MT ELIZA')\n",
    "match_sub2.append('MOUNT ELIZA')\n",
    "\n",
    "match_sub2.append('MT MARTHA')\n",
    "match_sub2.append('MOUNT MARTHA')"
   ]
  },
  {
   "cell_type": "code",
   "execution_count": 14,
   "metadata": {},
   "outputs": [
    {
     "data": {
      "text/plain": [
       "(205, 4)"
      ]
     },
     "execution_count": 14,
     "metadata": {},
     "output_type": "execute_result"
    }
   ],
   "source": [
    "vic_loc2 = vic_loc[vic_loc['suburb'].isin(match_sub2)]\n",
    "vic_loc3 = vic_loc2.drop_duplicates(['suburb'], keep='first')\n",
    "vic_loc3 = vic_loc3[['postcode','suburb','lat','lon']]\n",
    "vic_loc3.shape"
   ]
  },
  {
   "cell_type": "code",
   "execution_count": 15,
   "metadata": {
    "collapsed": true
   },
   "outputs": [],
   "source": [
    "match_dic2 = {'MELBOURNE': 'CBD', \n",
    "             'HAMPTON NORTH':'HAMPTON',\n",
    "             'SUNSHINE WEST': 'SUNSHINE',\n",
    "             'MOUNT ELIZA': 'MT ELIZA',\n",
    "             'MOUNT MARTHA':'MT MARTHA'  }\n",
    "vic_loc3 = vic_loc3.replace({'suburb':match_dic2})"
   ]
  },
  {
   "cell_type": "code",
   "execution_count": 42,
   "metadata": {
    "collapsed": true
   },
   "outputs": [],
   "source": [
    "df3 = df2[df2['LABEL'].isin(match_sub)]\n",
    "df4 = df3[['LABEL','Accommodation & Food Services','Health Care & Social Assistance','Total number of businesses']]\n",
    "df4 = df4[~df4['Total number of businesses'].isna()]"
   ]
  },
  {
   "cell_type": "code",
   "execution_count": 43,
   "metadata": {},
   "outputs": [
    {
     "data": {
      "text/plain": [
       "(227, 4)"
      ]
     },
     "execution_count": 43,
     "metadata": {},
     "output_type": "execute_result"
    }
   ],
   "source": [
    "df5 = df4.drop_duplicates(['LABEL'], keep='last')\n",
    "df5 = df5.reset_index(drop=True)\n",
    "df5.shape"
   ]
  },
  {
   "cell_type": "code",
   "execution_count": 44,
   "metadata": {},
   "outputs": [
    {
     "data": {
      "text/plain": [
       "(233, 4)"
      ]
     },
     "execution_count": 44,
     "metadata": {},
     "output_type": "execute_result"
    }
   ],
   "source": [
    "L = df5.shape[0]\n",
    "for i in part_match2.keys():\n",
    "    for j in range(L):\n",
    "        if df5.loc[j,'LABEL'] == i:\n",
    "            row = [part_match2[i]] + list(df5.iloc[j,1:].values) \n",
    "            df5 = df5.append(pd.Series(row, index=df5.columns ), ignore_index=True)\n",
    "df5.shape"
   ]
  },
  {
   "cell_type": "code",
   "execution_count": 45,
   "metadata": {
    "collapsed": true
   },
   "outputs": [],
   "source": [
    "match_dic = part_match.copy() \n",
    "match_dic.update({'MELBOURNE CITY': 'CBD', \n",
    "             'MOUNT ELIZA': 'MT ELIZA',\n",
    "             'MOUNT MARTHA':'MT MARTHA'  })"
   ]
  },
  {
   "cell_type": "code",
   "execution_count": 46,
   "metadata": {
    "collapsed": true
   },
   "outputs": [],
   "source": [
    "df5 = df5.replace({'LABEL':match_dic})"
   ]
  },
  {
   "cell_type": "code",
   "execution_count": 47,
   "metadata": {},
   "outputs": [
    {
     "data": {
      "text/plain": [
       "(233, 4)"
      ]
     },
     "execution_count": 47,
     "metadata": {},
     "output_type": "execute_result"
    }
   ],
   "source": [
    "df5.shape"
   ]
  },
  {
   "cell_type": "code",
   "execution_count": 48,
   "metadata": {
    "collapsed": true
   },
   "outputs": [],
   "source": [
    "food = df5.groupby(['LABEL'])['Accommodation & Food Services'].sum().reset_index(name=\"Accommodation & Food Services\")\n",
    "health = df5.groupby(['LABEL'])['Health Care & Social Assistance'].sum().reset_index(name=\"Health Care & Social Assistance\")\n",
    "business = df5.groupby(['LABEL'])['Total number of businesses'].sum().reset_index(name=\"Total number of businesses\")"
   ]
  },
  {
   "cell_type": "code",
   "execution_count": 49,
   "metadata": {
    "collapsed": true
   },
   "outputs": [],
   "source": [
    "industry = pd.merge(food, business, on=['LABEL', 'LABEL'])\n",
    "industry1 = industry.copy()  #industry1 = pd.merge(industry, health, on=['LABEL', 'LABEL'])\n",
    "result = pd.merge(vic_loc3, industry1, how='left', left_on=['suburb'], right_on=['LABEL'])"
   ]
  },
  {
   "cell_type": "code",
   "execution_count": 50,
   "metadata": {},
   "outputs": [
    {
     "data": {
      "text/plain": [
       "(205, 6)"
      ]
     },
     "execution_count": 50,
     "metadata": {},
     "output_type": "execute_result"
    }
   ],
   "source": [
    "result1 = result.drop(['LABEL'], axis=1)\n",
    "result1.shape"
   ]
  },
  {
   "cell_type": "code",
   "execution_count": 24,
   "metadata": {
    "collapsed": true
   },
   "outputs": [],
   "source": [
    "#result2 = result1[~result1['Total number of businesses'].isna()]\n",
    "result2 = result1.copy()\n",
    "result2['log_conv'] = round(np.log(result2['Total number of businesses']),1)\n",
    "result2['log_food'] = round(np.log(result2['Accommodation & Food Services']),1)"
   ]
  },
  {
   "cell_type": "code",
   "execution_count": 54,
   "metadata": {
    "collapsed": true
   },
   "outputs": [],
   "source": [
    "result2['convenient'] = pd.cut(result2['log_conv'],  [0, 6.4, 7.1, 7.7, 9,15],labels=[1, 2, 3,4,5])\n",
    "result2['food_service'] = pd.cut(result2['log_food'],  [0, 3,3.9, 4.7, 7,15],labels=[1, 2, 3,4,5])"
   ]
  },
  {
   "cell_type": "code",
   "execution_count": 55,
   "metadata": {
    "collapsed": true
   },
   "outputs": [],
   "source": [
    "result3= result2[['postcode','suburb','lat','lon','Accommodation & Food Services','Total number of businesses','convenient','food_service']]\n",
    "result3.columns = ['postcode','Suburb','lat','lon','Accommodation_Food Services','Total_businesses','convenient_level','food_service_level']"
   ]
  },
  {
   "cell_type": "code",
   "execution_count": 58,
   "metadata": {},
   "outputs": [
    {
     "name": "stderr",
     "output_type": "stream",
     "text": [
      "C:\\Users\\YHChen\\AppData\\Local\\Continuum\\Anaconda3\\lib\\site-packages\\ipykernel_launcher.py:1: SettingWithCopyWarning: \n",
      "A value is trying to be set on a copy of a slice from a DataFrame.\n",
      "Try using .loc[row_indexer,col_indexer] = value instead\n",
      "\n",
      "See the caveats in the documentation: http://pandas.pydata.org/pandas-docs/stable/indexing.html#indexing-view-versus-copy\n",
      "  \"\"\"Entry point for launching an IPython kernel.\n",
      "C:\\Users\\YHChen\\AppData\\Local\\Continuum\\Anaconda3\\lib\\site-packages\\ipykernel_launcher.py:2: SettingWithCopyWarning: \n",
      "A value is trying to be set on a copy of a slice from a DataFrame.\n",
      "Try using .loc[row_indexer,col_indexer] = value instead\n",
      "\n",
      "See the caveats in the documentation: http://pandas.pydata.org/pandas-docs/stable/indexing.html#indexing-view-versus-copy\n",
      "  \n"
     ]
    }
   ],
   "source": [
    "# fill na with the middle level\n",
    "result3['convenient_level'] = np.where(result3['convenient_level'].isna(),3,result3['convenient_level'] )\n",
    "result3['food_service_level'] = np.where(result3['food_service_level'].isna(),3,result3['food_service_level'] )"
   ]
  },
  {
   "cell_type": "code",
   "execution_count": 59,
   "metadata": {
    "collapsed": true
   },
   "outputs": [],
   "source": [
    "rent_final = pd.read_csv('rent_final.csv', low_memory=False)\n",
    "rent_final1 = rent_final[['Region','Suburb','Average_per_person']]\n",
    "rent_final2 = rent_final1.drop_duplicates(['Suburb'], keep='last')\n",
    "rent_final2 = rent_final2.reset_index(drop=True)"
   ]
  },
  {
   "cell_type": "code",
   "execution_count": 60,
   "metadata": {
    "collapsed": true
   },
   "outputs": [],
   "source": [
    "result_new = pd.merge(result3, rent_final2 , how='left', left_on=['Suburb'], right_on=['Suburb'])"
   ]
  },
  {
   "cell_type": "code",
   "execution_count": 61,
   "metadata": {
    "collapsed": true
   },
   "outputs": [],
   "source": [
    "result_final = result_new[~(result_new['Average_per_person'].isna())]"
   ]
  },
  {
   "cell_type": "code",
   "execution_count": 62,
   "metadata": {},
   "outputs": [
    {
     "data": {
      "text/plain": [
       "(204, 10)"
      ]
     },
     "execution_count": 62,
     "metadata": {},
     "output_type": "execute_result"
    }
   ],
   "source": [
    "result_final.shape"
   ]
  },
  {
   "cell_type": "code",
   "execution_count": 63,
   "metadata": {
    "collapsed": true
   },
   "outputs": [],
   "source": [
    "result_final.to_csv('suburb_detail_final_v2.csv',index=False)"
   ]
  },
  {
   "cell_type": "code",
   "execution_count": 2,
   "metadata": {
    "collapsed": true
   },
   "outputs": [],
   "source": [
    "sub = pd.read_csv('suburb_detail_final_v2.csv', low_memory=False)"
   ]
  },
  {
   "cell_type": "code",
   "execution_count": 4,
   "metadata": {
    "collapsed": true
   },
   "outputs": [],
   "source": [
    "uni = pd.read_csv('campus_loc_v2.csv', low_memory=False)"
   ]
  },
  {
   "cell_type": "code",
   "execution_count": 9,
   "metadata": {
    "collapsed": true
   },
   "outputs": [],
   "source": [
    "uni['Suburb'] = uni['Suburb'].str.upper()\n",
    "sub2 = sub[['Suburb','Average_per_person']]"
   ]
  },
  {
   "cell_type": "code",
   "execution_count": 10,
   "metadata": {
    "collapsed": true
   },
   "outputs": [],
   "source": [
    "uni1 = pd.merge(uni, sub2 , how='left', left_on=['Suburb'], right_on=['Suburb'])"
   ]
  },
  {
   "cell_type": "code",
   "execution_count": 11,
   "metadata": {},
   "outputs": [
    {
     "data": {
      "text/html": [
       "<div>\n",
       "<style scoped>\n",
       "    .dataframe tbody tr th:only-of-type {\n",
       "        vertical-align: middle;\n",
       "    }\n",
       "\n",
       "    .dataframe tbody tr th {\n",
       "        vertical-align: top;\n",
       "    }\n",
       "\n",
       "    .dataframe thead th {\n",
       "        text-align: right;\n",
       "    }\n",
       "</style>\n",
       "<table border=\"1\" class=\"dataframe\">\n",
       "  <thead>\n",
       "    <tr style=\"text-align: right;\">\n",
       "      <th></th>\n",
       "      <th>uni_id</th>\n",
       "      <th>University</th>\n",
       "      <th>Campus</th>\n",
       "      <th>Suburb</th>\n",
       "      <th>lat</th>\n",
       "      <th>long</th>\n",
       "      <th>Average_per_person</th>\n",
       "    </tr>\n",
       "  </thead>\n",
       "  <tbody>\n",
       "    <tr>\n",
       "      <th>0</th>\n",
       "      <td>1</td>\n",
       "      <td>La Trobe University</td>\n",
       "      <td>Melboune</td>\n",
       "      <td>BUNDOORA</td>\n",
       "      <td>-37.7170</td>\n",
       "      <td>145.0432</td>\n",
       "      <td>178</td>\n",
       "    </tr>\n",
       "    <tr>\n",
       "      <th>1</th>\n",
       "      <td>2</td>\n",
       "      <td>Monash University</td>\n",
       "      <td>Clayton</td>\n",
       "      <td>CLAYTON</td>\n",
       "      <td>-37.9153</td>\n",
       "      <td>145.1340</td>\n",
       "      <td>191</td>\n",
       "    </tr>\n",
       "    <tr>\n",
       "      <th>2</th>\n",
       "      <td>3</td>\n",
       "      <td>RMIT University</td>\n",
       "      <td>City</td>\n",
       "      <td>CBD</td>\n",
       "      <td>-37.8081</td>\n",
       "      <td>144.9633</td>\n",
       "      <td>294</td>\n",
       "    </tr>\n",
       "    <tr>\n",
       "      <th>3</th>\n",
       "      <td>4</td>\n",
       "      <td>Swinburne University of Technology</td>\n",
       "      <td>Hawthorn</td>\n",
       "      <td>HAWTHORN</td>\n",
       "      <td>-37.8529</td>\n",
       "      <td>144.9917</td>\n",
       "      <td>225</td>\n",
       "    </tr>\n",
       "    <tr>\n",
       "      <th>4</th>\n",
       "      <td>5</td>\n",
       "      <td>University of Divinity</td>\n",
       "      <td>Melboune</td>\n",
       "      <td>KEW</td>\n",
       "      <td>-37.8057</td>\n",
       "      <td>145.0368</td>\n",
       "      <td>212</td>\n",
       "    </tr>\n",
       "  </tbody>\n",
       "</table>\n",
       "</div>"
      ],
      "text/plain": [
       "   uni_id                          University    Campus    Suburb      lat  \\\n",
       "0       1                 La Trobe University  Melboune  BUNDOORA -37.7170   \n",
       "1       2                   Monash University   Clayton   CLAYTON -37.9153   \n",
       "2       3                     RMIT University      City       CBD -37.8081   \n",
       "3       4  Swinburne University of Technology  Hawthorn  HAWTHORN -37.8529   \n",
       "4       5              University of Divinity  Melboune       KEW -37.8057   \n",
       "\n",
       "       long  Average_per_person  \n",
       "0  145.0432                 178  \n",
       "1  145.1340                 191  \n",
       "2  144.9633                 294  \n",
       "3  144.9917                 225  \n",
       "4  145.0368                 212  "
      ]
     },
     "execution_count": 11,
     "metadata": {},
     "output_type": "execute_result"
    }
   ],
   "source": [
    "uni1.head()"
   ]
  },
  {
   "cell_type": "code",
   "execution_count": 12,
   "metadata": {
    "collapsed": true
   },
   "outputs": [],
   "source": [
    "uni1.to_csv('campus_loc_v3.csv', index=False)"
   ]
  },
  {
   "cell_type": "code",
   "execution_count": 3,
   "metadata": {},
   "outputs": [
    {
     "data": {
      "text/html": [
       "<div>\n",
       "<style scoped>\n",
       "    .dataframe tbody tr th:only-of-type {\n",
       "        vertical-align: middle;\n",
       "    }\n",
       "\n",
       "    .dataframe tbody tr th {\n",
       "        vertical-align: top;\n",
       "    }\n",
       "\n",
       "    .dataframe thead th {\n",
       "        text-align: right;\n",
       "    }\n",
       "</style>\n",
       "<table border=\"1\" class=\"dataframe\">\n",
       "  <thead>\n",
       "    <tr style=\"text-align: right;\">\n",
       "      <th></th>\n",
       "      <th>postcode</th>\n",
       "      <th>Suburb</th>\n",
       "      <th>lat</th>\n",
       "      <th>lon</th>\n",
       "      <th>Food Services</th>\n",
       "      <th>Total_businesses</th>\n",
       "      <th>convenient_level</th>\n",
       "      <th>food_service_level</th>\n",
       "      <th>Region</th>\n",
       "      <th>Average_per_person</th>\n",
       "    </tr>\n",
       "  </thead>\n",
       "  <tbody>\n",
       "    <tr>\n",
       "      <th>0</th>\n",
       "      <td>3000</td>\n",
       "      <td>CBD</td>\n",
       "      <td>-37.814563</td>\n",
       "      <td>144.970267</td>\n",
       "      <td>2125.0</td>\n",
       "      <td>37323.0</td>\n",
       "      <td>5</td>\n",
       "      <td>5</td>\n",
       "      <td>Inner Melbourne</td>\n",
       "      <td>294</td>\n",
       "    </tr>\n",
       "    <tr>\n",
       "      <th>1</th>\n",
       "      <td>3002</td>\n",
       "      <td>EAST MELBOURNE</td>\n",
       "      <td>-37.816640</td>\n",
       "      <td>144.987811</td>\n",
       "      <td>48.0</td>\n",
       "      <td>1433.0</td>\n",
       "      <td>3</td>\n",
       "      <td>2</td>\n",
       "      <td>Inner Melbourne</td>\n",
       "      <td>288</td>\n",
       "    </tr>\n",
       "    <tr>\n",
       "      <th>2</th>\n",
       "      <td>3003</td>\n",
       "      <td>WEST MELBOURNE</td>\n",
       "      <td>-37.806255</td>\n",
       "      <td>144.941123</td>\n",
       "      <td>5.0</td>\n",
       "      <td>171.0</td>\n",
       "      <td>1</td>\n",
       "      <td>1</td>\n",
       "      <td>Inner Melbourne</td>\n",
       "      <td>260</td>\n",
       "    </tr>\n",
       "    <tr>\n",
       "      <th>3</th>\n",
       "      <td>3006</td>\n",
       "      <td>SOUTHBANK</td>\n",
       "      <td>-37.823258</td>\n",
       "      <td>144.965926</td>\n",
       "      <td>137.0</td>\n",
       "      <td>2751.0</td>\n",
       "      <td>4</td>\n",
       "      <td>4</td>\n",
       "      <td>Inner Melbourne</td>\n",
       "      <td>289</td>\n",
       "    </tr>\n",
       "    <tr>\n",
       "      <th>4</th>\n",
       "      <td>3008</td>\n",
       "      <td>DOCKLANDS</td>\n",
       "      <td>-37.814719</td>\n",
       "      <td>144.948039</td>\n",
       "      <td>148.0</td>\n",
       "      <td>2004.0</td>\n",
       "      <td>3</td>\n",
       "      <td>4</td>\n",
       "      <td>Inner Melbourne</td>\n",
       "      <td>308</td>\n",
       "    </tr>\n",
       "  </tbody>\n",
       "</table>\n",
       "</div>"
      ],
      "text/plain": [
       "   postcode          Suburb        lat         lon  Food Services  \\\n",
       "0      3000             CBD -37.814563  144.970267         2125.0   \n",
       "1      3002  EAST MELBOURNE -37.816640  144.987811           48.0   \n",
       "2      3003  WEST MELBOURNE -37.806255  144.941123            5.0   \n",
       "3      3006       SOUTHBANK -37.823258  144.965926          137.0   \n",
       "4      3008       DOCKLANDS -37.814719  144.948039          148.0   \n",
       "\n",
       "   Total_businesses  convenient_level  food_service_level           Region  \\\n",
       "0           37323.0                 5                   5  Inner Melbourne   \n",
       "1            1433.0                 3                   2  Inner Melbourne   \n",
       "2             171.0                 1                   1  Inner Melbourne   \n",
       "3            2751.0                 4                   4  Inner Melbourne   \n",
       "4            2004.0                 3                   4  Inner Melbourne   \n",
       "\n",
       "   Average_per_person  \n",
       "0                 294  \n",
       "1                 288  \n",
       "2                 260  \n",
       "3                 289  \n",
       "4                 308  "
      ]
     },
     "execution_count": 3,
     "metadata": {},
     "output_type": "execute_result"
    }
   ],
   "source": [
    "sub.head()"
   ]
  },
  {
   "cell_type": "code",
   "execution_count": 4,
   "metadata": {
    "collapsed": true
   },
   "outputs": [],
   "source": [
    "house = pd.read_csv('rent_final_house_modified.csv', low_memory=False)"
   ]
  },
  {
   "cell_type": "code",
   "execution_count": 5,
   "metadata": {},
   "outputs": [
    {
     "data": {
      "text/html": [
       "<div>\n",
       "<style scoped>\n",
       "    .dataframe tbody tr th:only-of-type {\n",
       "        vertical-align: middle;\n",
       "    }\n",
       "\n",
       "    .dataframe tbody tr th {\n",
       "        vertical-align: top;\n",
       "    }\n",
       "\n",
       "    .dataframe thead th {\n",
       "        text-align: right;\n",
       "    }\n",
       "</style>\n",
       "<table border=\"1\" class=\"dataframe\">\n",
       "  <thead>\n",
       "    <tr style=\"text-align: right;\">\n",
       "      <th></th>\n",
       "      <th>Rent_id</th>\n",
       "      <th>Region</th>\n",
       "      <th>Suburb</th>\n",
       "      <th>Average_per_person</th>\n",
       "    </tr>\n",
       "  </thead>\n",
       "  <tbody>\n",
       "    <tr>\n",
       "      <th>0</th>\n",
       "      <td>0</td>\n",
       "      <td>Inner Melbourne</td>\n",
       "      <td>ALBERT PARK</td>\n",
       "      <td>313</td>\n",
       "    </tr>\n",
       "    <tr>\n",
       "      <th>1</th>\n",
       "      <td>1</td>\n",
       "      <td>Inner Melbourne</td>\n",
       "      <td>MIDDLE PARK</td>\n",
       "      <td>313</td>\n",
       "    </tr>\n",
       "    <tr>\n",
       "      <th>2</th>\n",
       "      <td>2</td>\n",
       "      <td>Inner Melbourne</td>\n",
       "      <td>WEST ST KILDA</td>\n",
       "      <td>313</td>\n",
       "    </tr>\n",
       "    <tr>\n",
       "      <th>3</th>\n",
       "      <td>3</td>\n",
       "      <td>Inner Melbourne</td>\n",
       "      <td>ARMADALE</td>\n",
       "      <td>304</td>\n",
       "    </tr>\n",
       "    <tr>\n",
       "      <th>4</th>\n",
       "      <td>4</td>\n",
       "      <td>Inner Melbourne</td>\n",
       "      <td>CARLTON NORTH</td>\n",
       "      <td>249</td>\n",
       "    </tr>\n",
       "  </tbody>\n",
       "</table>\n",
       "</div>"
      ],
      "text/plain": [
       "   Rent_id           Region         Suburb  Average_per_person\n",
       "0        0  Inner Melbourne    ALBERT PARK                 313\n",
       "1        1  Inner Melbourne    MIDDLE PARK                 313\n",
       "2        2  Inner Melbourne  WEST ST KILDA                 313\n",
       "3        3  Inner Melbourne       ARMADALE                 304\n",
       "4        4  Inner Melbourne  CARLTON NORTH                 249"
      ]
     },
     "execution_count": 5,
     "metadata": {},
     "output_type": "execute_result"
    }
   ],
   "source": [
    "house.head()"
   ]
  },
  {
   "cell_type": "code",
   "execution_count": 8,
   "metadata": {},
   "outputs": [
    {
     "data": {
      "text/html": [
       "<div>\n",
       "<style scoped>\n",
       "    .dataframe tbody tr th:only-of-type {\n",
       "        vertical-align: middle;\n",
       "    }\n",
       "\n",
       "    .dataframe tbody tr th {\n",
       "        vertical-align: top;\n",
       "    }\n",
       "\n",
       "    .dataframe thead th {\n",
       "        text-align: right;\n",
       "    }\n",
       "</style>\n",
       "<table border=\"1\" class=\"dataframe\">\n",
       "  <thead>\n",
       "    <tr style=\"text-align: right;\">\n",
       "      <th></th>\n",
       "      <th>postcode</th>\n",
       "      <th>Suburb</th>\n",
       "      <th>lat</th>\n",
       "      <th>lon</th>\n",
       "      <th>Food Services</th>\n",
       "      <th>Total_businesses</th>\n",
       "      <th>convenient_level</th>\n",
       "      <th>food_service_level</th>\n",
       "      <th>Region</th>\n",
       "      <th>Average_per_person</th>\n",
       "    </tr>\n",
       "  </thead>\n",
       "  <tbody>\n",
       "    <tr>\n",
       "      <th>181</th>\n",
       "      <td>3689</td>\n",
       "      <td>WODONGA</td>\n",
       "      <td>-37.67576</td>\n",
       "      <td>144.989793</td>\n",
       "      <td>73.0</td>\n",
       "      <td>2000.0</td>\n",
       "      <td>3</td>\n",
       "      <td>3</td>\n",
       "      <td>Other Regional Centres</td>\n",
       "      <td>116</td>\n",
       "    </tr>\n",
       "  </tbody>\n",
       "</table>\n",
       "</div>"
      ],
      "text/plain": [
       "     postcode   Suburb       lat         lon  Food Services  Total_businesses  \\\n",
       "181      3689  WODONGA -37.67576  144.989793           73.0            2000.0   \n",
       "\n",
       "     convenient_level  food_service_level                  Region  \\\n",
       "181                 3                   3  Other Regional Centres   \n",
       "\n",
       "     Average_per_person  \n",
       "181                 116  "
      ]
     },
     "execution_count": 8,
     "metadata": {},
     "output_type": "execute_result"
    }
   ],
   "source": [
    "sub[sub['Suburb']==\"WODONGA\"]"
   ]
  },
  {
   "cell_type": "code",
   "execution_count": 6,
   "metadata": {
    "collapsed": true
   },
   "outputs": [],
   "source": [
    "house1 = house[['Suburb','Average_per_person']]"
   ]
  },
  {
   "cell_type": "code",
   "execution_count": 7,
   "metadata": {
    "collapsed": true
   },
   "outputs": [],
   "source": [
    "house1.columns = ['Suburb', 'House_rent']"
   ]
  },
  {
   "cell_type": "code",
   "execution_count": 8,
   "metadata": {},
   "outputs": [
    {
     "data": {
      "text/html": [
       "<div>\n",
       "<style scoped>\n",
       "    .dataframe tbody tr th:only-of-type {\n",
       "        vertical-align: middle;\n",
       "    }\n",
       "\n",
       "    .dataframe tbody tr th {\n",
       "        vertical-align: top;\n",
       "    }\n",
       "\n",
       "    .dataframe thead th {\n",
       "        text-align: right;\n",
       "    }\n",
       "</style>\n",
       "<table border=\"1\" class=\"dataframe\">\n",
       "  <thead>\n",
       "    <tr style=\"text-align: right;\">\n",
       "      <th></th>\n",
       "      <th>Suburb</th>\n",
       "      <th>House_rent</th>\n",
       "    </tr>\n",
       "  </thead>\n",
       "  <tbody>\n",
       "    <tr>\n",
       "      <th>0</th>\n",
       "      <td>ALBERT PARK</td>\n",
       "      <td>313</td>\n",
       "    </tr>\n",
       "    <tr>\n",
       "      <th>1</th>\n",
       "      <td>MIDDLE PARK</td>\n",
       "      <td>313</td>\n",
       "    </tr>\n",
       "    <tr>\n",
       "      <th>2</th>\n",
       "      <td>WEST ST KILDA</td>\n",
       "      <td>313</td>\n",
       "    </tr>\n",
       "    <tr>\n",
       "      <th>3</th>\n",
       "      <td>ARMADALE</td>\n",
       "      <td>304</td>\n",
       "    </tr>\n",
       "    <tr>\n",
       "      <th>4</th>\n",
       "      <td>CARLTON NORTH</td>\n",
       "      <td>249</td>\n",
       "    </tr>\n",
       "  </tbody>\n",
       "</table>\n",
       "</div>"
      ],
      "text/plain": [
       "          Suburb  House_rent\n",
       "0    ALBERT PARK         313\n",
       "1    MIDDLE PARK         313\n",
       "2  WEST ST KILDA         313\n",
       "3       ARMADALE         304\n",
       "4  CARLTON NORTH         249"
      ]
     },
     "execution_count": 8,
     "metadata": {},
     "output_type": "execute_result"
    }
   ],
   "source": [
    "house1.head()"
   ]
  },
  {
   "cell_type": "code",
   "execution_count": 9,
   "metadata": {
    "collapsed": true
   },
   "outputs": [],
   "source": [
    "house2 = pd.merge(sub, house1 , how='left', left_on=['Suburb'], right_on=['Suburb'])"
   ]
  },
  {
   "cell_type": "code",
   "execution_count": 10,
   "metadata": {},
   "outputs": [
    {
     "data": {
      "text/html": [
       "<div>\n",
       "<style scoped>\n",
       "    .dataframe tbody tr th:only-of-type {\n",
       "        vertical-align: middle;\n",
       "    }\n",
       "\n",
       "    .dataframe tbody tr th {\n",
       "        vertical-align: top;\n",
       "    }\n",
       "\n",
       "    .dataframe thead th {\n",
       "        text-align: right;\n",
       "    }\n",
       "</style>\n",
       "<table border=\"1\" class=\"dataframe\">\n",
       "  <thead>\n",
       "    <tr style=\"text-align: right;\">\n",
       "      <th></th>\n",
       "      <th>postcode</th>\n",
       "      <th>Suburb</th>\n",
       "      <th>lat</th>\n",
       "      <th>lon</th>\n",
       "      <th>Food Services</th>\n",
       "      <th>Total_businesses</th>\n",
       "      <th>convenient_level</th>\n",
       "      <th>food_service_level</th>\n",
       "      <th>Region</th>\n",
       "      <th>Average_per_person</th>\n",
       "      <th>House_rent</th>\n",
       "    </tr>\n",
       "  </thead>\n",
       "  <tbody>\n",
       "    <tr>\n",
       "      <th>0</th>\n",
       "      <td>3000</td>\n",
       "      <td>CBD</td>\n",
       "      <td>-37.814563</td>\n",
       "      <td>144.970267</td>\n",
       "      <td>2125.0</td>\n",
       "      <td>37323.0</td>\n",
       "      <td>5</td>\n",
       "      <td>5</td>\n",
       "      <td>Inner Melbourne</td>\n",
       "      <td>294</td>\n",
       "      <td>NaN</td>\n",
       "    </tr>\n",
       "    <tr>\n",
       "      <th>1</th>\n",
       "      <td>3002</td>\n",
       "      <td>EAST MELBOURNE</td>\n",
       "      <td>-37.816640</td>\n",
       "      <td>144.987811</td>\n",
       "      <td>48.0</td>\n",
       "      <td>1433.0</td>\n",
       "      <td>3</td>\n",
       "      <td>2</td>\n",
       "      <td>Inner Melbourne</td>\n",
       "      <td>288</td>\n",
       "      <td>NaN</td>\n",
       "    </tr>\n",
       "    <tr>\n",
       "      <th>2</th>\n",
       "      <td>3003</td>\n",
       "      <td>WEST MELBOURNE</td>\n",
       "      <td>-37.806255</td>\n",
       "      <td>144.941123</td>\n",
       "      <td>5.0</td>\n",
       "      <td>171.0</td>\n",
       "      <td>1</td>\n",
       "      <td>1</td>\n",
       "      <td>Inner Melbourne</td>\n",
       "      <td>260</td>\n",
       "      <td>233.0</td>\n",
       "    </tr>\n",
       "    <tr>\n",
       "      <th>3</th>\n",
       "      <td>3006</td>\n",
       "      <td>SOUTHBANK</td>\n",
       "      <td>-37.823258</td>\n",
       "      <td>144.965926</td>\n",
       "      <td>137.0</td>\n",
       "      <td>2751.0</td>\n",
       "      <td>4</td>\n",
       "      <td>4</td>\n",
       "      <td>Inner Melbourne</td>\n",
       "      <td>289</td>\n",
       "      <td>NaN</td>\n",
       "    </tr>\n",
       "    <tr>\n",
       "      <th>4</th>\n",
       "      <td>3008</td>\n",
       "      <td>DOCKLANDS</td>\n",
       "      <td>-37.814719</td>\n",
       "      <td>144.948039</td>\n",
       "      <td>148.0</td>\n",
       "      <td>2004.0</td>\n",
       "      <td>3</td>\n",
       "      <td>4</td>\n",
       "      <td>Inner Melbourne</td>\n",
       "      <td>308</td>\n",
       "      <td>333.0</td>\n",
       "    </tr>\n",
       "  </tbody>\n",
       "</table>\n",
       "</div>"
      ],
      "text/plain": [
       "   postcode          Suburb        lat         lon  Food Services  \\\n",
       "0      3000             CBD -37.814563  144.970267         2125.0   \n",
       "1      3002  EAST MELBOURNE -37.816640  144.987811           48.0   \n",
       "2      3003  WEST MELBOURNE -37.806255  144.941123            5.0   \n",
       "3      3006       SOUTHBANK -37.823258  144.965926          137.0   \n",
       "4      3008       DOCKLANDS -37.814719  144.948039          148.0   \n",
       "\n",
       "   Total_businesses  convenient_level  food_service_level           Region  \\\n",
       "0           37323.0                 5                   5  Inner Melbourne   \n",
       "1            1433.0                 3                   2  Inner Melbourne   \n",
       "2             171.0                 1                   1  Inner Melbourne   \n",
       "3            2751.0                 4                   4  Inner Melbourne   \n",
       "4            2004.0                 3                   4  Inner Melbourne   \n",
       "\n",
       "   Average_per_person  House_rent  \n",
       "0                 294         NaN  \n",
       "1                 288         NaN  \n",
       "2                 260       233.0  \n",
       "3                 289         NaN  \n",
       "4                 308       333.0  "
      ]
     },
     "execution_count": 10,
     "metadata": {},
     "output_type": "execute_result"
    }
   ],
   "source": [
    "house2.head()"
   ]
  },
  {
   "cell_type": "code",
   "execution_count": 19,
   "metadata": {},
   "outputs": [
    {
     "data": {
      "text/html": [
       "<div>\n",
       "<style scoped>\n",
       "    .dataframe tbody tr th:only-of-type {\n",
       "        vertical-align: middle;\n",
       "    }\n",
       "\n",
       "    .dataframe tbody tr th {\n",
       "        vertical-align: top;\n",
       "    }\n",
       "\n",
       "    .dataframe thead th {\n",
       "        text-align: right;\n",
       "    }\n",
       "</style>\n",
       "<table border=\"1\" class=\"dataframe\">\n",
       "  <thead>\n",
       "    <tr style=\"text-align: right;\">\n",
       "      <th></th>\n",
       "      <th>postcode</th>\n",
       "      <th>Suburb</th>\n",
       "      <th>lat</th>\n",
       "      <th>lon</th>\n",
       "      <th>Food Services</th>\n",
       "      <th>Total_businesses</th>\n",
       "      <th>convenient_level</th>\n",
       "      <th>food_service_level</th>\n",
       "      <th>Region</th>\n",
       "      <th>Average_per_person</th>\n",
       "      <th>House_rent</th>\n",
       "    </tr>\n",
       "  </thead>\n",
       "  <tbody>\n",
       "    <tr>\n",
       "      <th>0</th>\n",
       "      <td>3000</td>\n",
       "      <td>CBD</td>\n",
       "      <td>-37.814563</td>\n",
       "      <td>144.970267</td>\n",
       "      <td>2125.0</td>\n",
       "      <td>37323.0</td>\n",
       "      <td>5</td>\n",
       "      <td>5</td>\n",
       "      <td>Inner Melbourne</td>\n",
       "      <td>294</td>\n",
       "      <td>NaN</td>\n",
       "    </tr>\n",
       "    <tr>\n",
       "      <th>1</th>\n",
       "      <td>3002</td>\n",
       "      <td>EAST MELBOURNE</td>\n",
       "      <td>-37.816640</td>\n",
       "      <td>144.987811</td>\n",
       "      <td>48.0</td>\n",
       "      <td>1433.0</td>\n",
       "      <td>3</td>\n",
       "      <td>2</td>\n",
       "      <td>Inner Melbourne</td>\n",
       "      <td>288</td>\n",
       "      <td>NaN</td>\n",
       "    </tr>\n",
       "    <tr>\n",
       "      <th>3</th>\n",
       "      <td>3006</td>\n",
       "      <td>SOUTHBANK</td>\n",
       "      <td>-37.823258</td>\n",
       "      <td>144.965926</td>\n",
       "      <td>137.0</td>\n",
       "      <td>2751.0</td>\n",
       "      <td>4</td>\n",
       "      <td>4</td>\n",
       "      <td>Inner Melbourne</td>\n",
       "      <td>289</td>\n",
       "      <td>NaN</td>\n",
       "    </tr>\n",
       "  </tbody>\n",
       "</table>\n",
       "</div>"
      ],
      "text/plain": [
       "   postcode          Suburb        lat         lon  Food Services  \\\n",
       "0      3000             CBD -37.814563  144.970267         2125.0   \n",
       "1      3002  EAST MELBOURNE -37.816640  144.987811           48.0   \n",
       "3      3006       SOUTHBANK -37.823258  144.965926          137.0   \n",
       "\n",
       "   Total_businesses  convenient_level  food_service_level           Region  \\\n",
       "0           37323.0                 5                   5  Inner Melbourne   \n",
       "1            1433.0                 3                   2  Inner Melbourne   \n",
       "3            2751.0                 4                   4  Inner Melbourne   \n",
       "\n",
       "   Average_per_person  House_rent  \n",
       "0                 294         NaN  \n",
       "1                 288         NaN  \n",
       "3                 289         NaN  "
      ]
     },
     "execution_count": 19,
     "metadata": {},
     "output_type": "execute_result"
    }
   ],
   "source": [
    "house2[house2['House_rent'].isnull()]"
   ]
  },
  {
   "cell_type": "code",
   "execution_count": 21,
   "metadata": {},
   "outputs": [
    {
     "data": {
      "text/html": [
       "<div>\n",
       "<style scoped>\n",
       "    .dataframe tbody tr th:only-of-type {\n",
       "        vertical-align: middle;\n",
       "    }\n",
       "\n",
       "    .dataframe tbody tr th {\n",
       "        vertical-align: top;\n",
       "    }\n",
       "\n",
       "    .dataframe thead th {\n",
       "        text-align: right;\n",
       "    }\n",
       "</style>\n",
       "<table border=\"1\" class=\"dataframe\">\n",
       "  <thead>\n",
       "    <tr style=\"text-align: right;\">\n",
       "      <th></th>\n",
       "      <th>postcode</th>\n",
       "      <th>Suburb</th>\n",
       "      <th>lat</th>\n",
       "      <th>lon</th>\n",
       "      <th>Food Services</th>\n",
       "      <th>Total_businesses</th>\n",
       "      <th>convenient_level</th>\n",
       "      <th>food_service_level</th>\n",
       "      <th>Region</th>\n",
       "      <th>Average_per_person</th>\n",
       "      <th>House_rent</th>\n",
       "    </tr>\n",
       "  </thead>\n",
       "  <tbody>\n",
       "    <tr>\n",
       "      <th>0</th>\n",
       "      <td>3000</td>\n",
       "      <td>CBD</td>\n",
       "      <td>-37.814563</td>\n",
       "      <td>144.970267</td>\n",
       "      <td>2125.0</td>\n",
       "      <td>37323.0</td>\n",
       "      <td>Very High</td>\n",
       "      <td>5</td>\n",
       "      <td>Inner Melbourne</td>\n",
       "      <td>294</td>\n",
       "      <td>NaN</td>\n",
       "    </tr>\n",
       "    <tr>\n",
       "      <th>1</th>\n",
       "      <td>3002</td>\n",
       "      <td>EAST MELBOURNE</td>\n",
       "      <td>-37.816640</td>\n",
       "      <td>144.987811</td>\n",
       "      <td>48.0</td>\n",
       "      <td>1433.0</td>\n",
       "      <td>Medium</td>\n",
       "      <td>2</td>\n",
       "      <td>Inner Melbourne</td>\n",
       "      <td>288</td>\n",
       "      <td>NaN</td>\n",
       "    </tr>\n",
       "    <tr>\n",
       "      <th>2</th>\n",
       "      <td>3003</td>\n",
       "      <td>WEST MELBOURNE</td>\n",
       "      <td>-37.806255</td>\n",
       "      <td>144.941123</td>\n",
       "      <td>5.0</td>\n",
       "      <td>171.0</td>\n",
       "      <td>Very Low</td>\n",
       "      <td>1</td>\n",
       "      <td>Inner Melbourne</td>\n",
       "      <td>260</td>\n",
       "      <td>350.0</td>\n",
       "    </tr>\n",
       "    <tr>\n",
       "      <th>3</th>\n",
       "      <td>3006</td>\n",
       "      <td>SOUTHBANK</td>\n",
       "      <td>-37.823258</td>\n",
       "      <td>144.965926</td>\n",
       "      <td>137.0</td>\n",
       "      <td>2751.0</td>\n",
       "      <td>High</td>\n",
       "      <td>4</td>\n",
       "      <td>Inner Melbourne</td>\n",
       "      <td>289</td>\n",
       "      <td>NaN</td>\n",
       "    </tr>\n",
       "    <tr>\n",
       "      <th>4</th>\n",
       "      <td>3008</td>\n",
       "      <td>DOCKLANDS</td>\n",
       "      <td>-37.814719</td>\n",
       "      <td>144.948039</td>\n",
       "      <td>148.0</td>\n",
       "      <td>2004.0</td>\n",
       "      <td>Medium</td>\n",
       "      <td>4</td>\n",
       "      <td>Inner Melbourne</td>\n",
       "      <td>308</td>\n",
       "      <td>333.0</td>\n",
       "    </tr>\n",
       "  </tbody>\n",
       "</table>\n",
       "</div>"
      ],
      "text/plain": [
       "   postcode          Suburb        lat         lon  Food Services  \\\n",
       "0      3000             CBD -37.814563  144.970267         2125.0   \n",
       "1      3002  EAST MELBOURNE -37.816640  144.987811           48.0   \n",
       "2      3003  WEST MELBOURNE -37.806255  144.941123            5.0   \n",
       "3      3006       SOUTHBANK -37.823258  144.965926          137.0   \n",
       "4      3008       DOCKLANDS -37.814719  144.948039          148.0   \n",
       "\n",
       "   Total_businesses convenient_level  food_service_level           Region  \\\n",
       "0           37323.0        Very High                   5  Inner Melbourne   \n",
       "1            1433.0           Medium                   2  Inner Melbourne   \n",
       "2             171.0         Very Low                   1  Inner Melbourne   \n",
       "3            2751.0             High                   4  Inner Melbourne   \n",
       "4            2004.0           Medium                   4  Inner Melbourne   \n",
       "\n",
       "   Average_per_person  House_rent  \n",
       "0                 294         NaN  \n",
       "1                 288         NaN  \n",
       "2                 260       350.0  \n",
       "3                 289         NaN  \n",
       "4                 308       333.0  "
      ]
     },
     "execution_count": 21,
     "metadata": {},
     "output_type": "execute_result"
    }
   ],
   "source": [
    "match_level = {1: 'Very Low', \n",
    "             2:'Low',\n",
    "             3: 'Medium',\n",
    "             4: 'High',\n",
    "             5:'Very High'  }\n",
    "house2 = house2.replace({'convenient_level':match_level})\n",
    "house2.head()"
   ]
  },
  {
   "cell_type": "code",
   "execution_count": 22,
   "metadata": {},
   "outputs": [
    {
     "data": {
      "text/html": [
       "<div>\n",
       "<style scoped>\n",
       "    .dataframe tbody tr th:only-of-type {\n",
       "        vertical-align: middle;\n",
       "    }\n",
       "\n",
       "    .dataframe tbody tr th {\n",
       "        vertical-align: top;\n",
       "    }\n",
       "\n",
       "    .dataframe thead th {\n",
       "        text-align: right;\n",
       "    }\n",
       "</style>\n",
       "<table border=\"1\" class=\"dataframe\">\n",
       "  <thead>\n",
       "    <tr style=\"text-align: right;\">\n",
       "      <th></th>\n",
       "      <th>postcode</th>\n",
       "      <th>Suburb</th>\n",
       "      <th>lat</th>\n",
       "      <th>lon</th>\n",
       "      <th>Food Services</th>\n",
       "      <th>Total_businesses</th>\n",
       "      <th>convenient_level</th>\n",
       "      <th>food_service_level</th>\n",
       "      <th>Region</th>\n",
       "      <th>Average_per_person</th>\n",
       "      <th>House_rent</th>\n",
       "    </tr>\n",
       "  </thead>\n",
       "  <tbody>\n",
       "    <tr>\n",
       "      <th>0</th>\n",
       "      <td>3000</td>\n",
       "      <td>CBD</td>\n",
       "      <td>-37.814563</td>\n",
       "      <td>144.970267</td>\n",
       "      <td>2125.0</td>\n",
       "      <td>37323.0</td>\n",
       "      <td>Very High</td>\n",
       "      <td>Very High</td>\n",
       "      <td>Inner Melbourne</td>\n",
       "      <td>294</td>\n",
       "      <td>NaN</td>\n",
       "    </tr>\n",
       "    <tr>\n",
       "      <th>1</th>\n",
       "      <td>3002</td>\n",
       "      <td>EAST MELBOURNE</td>\n",
       "      <td>-37.816640</td>\n",
       "      <td>144.987811</td>\n",
       "      <td>48.0</td>\n",
       "      <td>1433.0</td>\n",
       "      <td>Medium</td>\n",
       "      <td>Low</td>\n",
       "      <td>Inner Melbourne</td>\n",
       "      <td>288</td>\n",
       "      <td>NaN</td>\n",
       "    </tr>\n",
       "    <tr>\n",
       "      <th>2</th>\n",
       "      <td>3003</td>\n",
       "      <td>WEST MELBOURNE</td>\n",
       "      <td>-37.806255</td>\n",
       "      <td>144.941123</td>\n",
       "      <td>5.0</td>\n",
       "      <td>171.0</td>\n",
       "      <td>Very Low</td>\n",
       "      <td>Very Low</td>\n",
       "      <td>Inner Melbourne</td>\n",
       "      <td>260</td>\n",
       "      <td>350.0</td>\n",
       "    </tr>\n",
       "    <tr>\n",
       "      <th>3</th>\n",
       "      <td>3006</td>\n",
       "      <td>SOUTHBANK</td>\n",
       "      <td>-37.823258</td>\n",
       "      <td>144.965926</td>\n",
       "      <td>137.0</td>\n",
       "      <td>2751.0</td>\n",
       "      <td>High</td>\n",
       "      <td>High</td>\n",
       "      <td>Inner Melbourne</td>\n",
       "      <td>289</td>\n",
       "      <td>NaN</td>\n",
       "    </tr>\n",
       "    <tr>\n",
       "      <th>4</th>\n",
       "      <td>3008</td>\n",
       "      <td>DOCKLANDS</td>\n",
       "      <td>-37.814719</td>\n",
       "      <td>144.948039</td>\n",
       "      <td>148.0</td>\n",
       "      <td>2004.0</td>\n",
       "      <td>Medium</td>\n",
       "      <td>High</td>\n",
       "      <td>Inner Melbourne</td>\n",
       "      <td>308</td>\n",
       "      <td>333.0</td>\n",
       "    </tr>\n",
       "  </tbody>\n",
       "</table>\n",
       "</div>"
      ],
      "text/plain": [
       "   postcode          Suburb        lat         lon  Food Services  \\\n",
       "0      3000             CBD -37.814563  144.970267         2125.0   \n",
       "1      3002  EAST MELBOURNE -37.816640  144.987811           48.0   \n",
       "2      3003  WEST MELBOURNE -37.806255  144.941123            5.0   \n",
       "3      3006       SOUTHBANK -37.823258  144.965926          137.0   \n",
       "4      3008       DOCKLANDS -37.814719  144.948039          148.0   \n",
       "\n",
       "   Total_businesses convenient_level food_service_level           Region  \\\n",
       "0           37323.0        Very High          Very High  Inner Melbourne   \n",
       "1            1433.0           Medium                Low  Inner Melbourne   \n",
       "2             171.0         Very Low           Very Low  Inner Melbourne   \n",
       "3            2751.0             High               High  Inner Melbourne   \n",
       "4            2004.0           Medium               High  Inner Melbourne   \n",
       "\n",
       "   Average_per_person  House_rent  \n",
       "0                 294         NaN  \n",
       "1                 288         NaN  \n",
       "2                 260       350.0  \n",
       "3                 289         NaN  \n",
       "4                 308       333.0  "
      ]
     },
     "execution_count": 22,
     "metadata": {},
     "output_type": "execute_result"
    }
   ],
   "source": [
    "house2 = house2.replace({'food_service_level':match_level})\n",
    "house2.head()"
   ]
  },
  {
   "cell_type": "code",
   "execution_count": 11,
   "metadata": {
    "collapsed": true
   },
   "outputs": [],
   "source": [
    "house2.to_csv('suburb_detail_final_v3.csv',index=False)"
   ]
  },
  {
   "cell_type": "code",
   "execution_count": null,
   "metadata": {
    "collapsed": true
   },
   "outputs": [],
   "source": [
    "result2['convenient'] = pd.cut(result2['log_conv'],  [0, 6.4, 7.1, 7.7, 9,15],labels=[1, 2, 3,4,5])\n",
    "result2['food_service'] = pd.cut(result2['log_food'],  [0, 3,3.9, 4.7, 7,15],labels=[1, 2, 3,4,5])"
   ]
  },
  {
   "cell_type": "code",
   "execution_count": 5,
   "metadata": {},
   "outputs": [
    {
     "name": "stdout",
     "output_type": "stream",
     "text": [
      "602.0 1212.0 2208.0 8103.0\n"
     ]
    }
   ],
   "source": [
    "print(round(np.exp(6.4)), round(np.exp(7.1)),round(np.exp(7.7)),round(np.exp(9)))   "
   ]
  },
  {
   "cell_type": "code",
   "execution_count": 6,
   "metadata": {},
   "outputs": [
    {
     "name": "stdout",
     "output_type": "stream",
     "text": [
      "20.0 49.0 110.0 1097.0\n"
     ]
    }
   ],
   "source": [
    "print(round(np.exp(3)), round(np.exp(3.9)),round(np.exp(4.7)),round(np.exp(7)))  "
   ]
  },
  {
   "cell_type": "code",
   "execution_count": null,
   "metadata": {
    "collapsed": true
   },
   "outputs": [],
   "source": []
  }
 ],
 "metadata": {
  "kernelspec": {
   "display_name": "Python 3",
   "language": "python",
   "name": "python3"
  },
  "language_info": {
   "codemirror_mode": {
    "name": "ipython",
    "version": 3
   },
   "file_extension": ".py",
   "mimetype": "text/x-python",
   "name": "python",
   "nbconvert_exporter": "python",
   "pygments_lexer": "ipython3",
   "version": "3.6.6"
  }
 },
 "nbformat": 4,
 "nbformat_minor": 2
}
